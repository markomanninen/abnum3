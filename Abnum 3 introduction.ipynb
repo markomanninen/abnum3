{
 "cells": [
  {
   "cell_type": "markdown",
   "metadata": {},
   "source": [
    "# Abnum 3\n",
    "\n",
    "Abnum 3 is an alphabetic numerals library for Python 3. Library contains various letter value substituting systems from ancient times to modern artificial ones.\n",
    "\n",
    "_Older version for Python 2 can be found from: https://github.com/markomanninen/abnum_\n",
    "\n",
    "Currently supported scripts are: Greek (ancient), Hebrew and English. Planned for future is a support for Arabic, Coptic, Sanskrit, Aramean and Ethiopian scripts, which all are good candidates to have been used for alpha-numeric calculations in the past.\n",
    "\n",
    "Some of the systems have been referred with certain name and methodology:\n",
    "\n",
    "* Greek as [isopsephy](http://en.wikipedia.org/wiki/Isopsephy)\n",
    "* Hebrew as [gematria](http://en.wikipedia.org/wiki/Gematria)\n",
    "* Arabic as [abjad](http://en.wikipedia.org/wiki/Abjad_numerals)\n",
    "* Sanskrit as [katapayadi](http://en.wikipedia.org/wiki/Katapayadi_system)\n",
    "\n",
    "But not all languages and scripts have specific name for this exciting literary device. For that reason and purely for  recreational purposes I decided to put all systems under the same generic library, namely: Abnum 3.\n",
    "\n",
    "Many languages have acrophonic (not alphabetic) numerals also. Most well known of them are roman numbers: I, V, X, L, C, D and M. Greeks had Attic (e.g. Herodianic) numerals, but any of these should not be confuced with alphabetic numerals implemented on the Abnum 3 library.\n",
    "\n",
    "# Usage\n",
    "\n",
    "Import Abnum class and scripts from the abnum package:"
   ]
  },
  {
   "cell_type": "code",
   "execution_count": 1,
   "metadata": {
    "collapsed": false
   },
   "outputs": [],
   "source": [
    "from abnum import Abnum, greek, hebrew, english"
   ]
  },
  {
   "cell_type": "markdown",
   "metadata": {},
   "source": [
    "## Greek\n",
    "\n",
    "Initialize abnum object with Greek script. Object (g) will hold all main functionality for alphabet numeral value calculation and transliteration purposes:"
   ]
  },
  {
   "cell_type": "code",
   "execution_count": 2,
   "metadata": {
    "collapsed": false
   },
   "outputs": [],
   "source": [
    "g = Abnum(greek)"
   ]
  },
  {
   "cell_type": "markdown",
   "metadata": {},
   "source": [
    "Set up a word, or a phrase \"o Logos\" which means \"the Word\" for calculation:"
   ]
  },
  {
   "cell_type": "code",
   "execution_count": 3,
   "metadata": {
    "collapsed": true
   },
   "outputs": [],
   "source": [
    "phrase = 'ο Λογος'"
   ]
  },
  {
   "cell_type": "markdown",
   "metadata": {},
   "source": [
    "You can transliterate Greek letters to Roman equivalents with convert method:"
   ]
  },
  {
   "cell_type": "code",
   "execution_count": 4,
   "metadata": {
    "collapsed": false
   },
   "outputs": [
    {
     "name": "stdout",
     "output_type": "stream",
     "text": [
      "o Logos\n"
     ]
    }
   ],
   "source": [
    "print (g.convert(phrase))"
   ]
  },
  {
   "cell_type": "markdown",
   "metadata": {},
   "source": [
    "Finally get the isopsephic value with value method of the Abnum class:"
   ]
  },
  {
   "cell_type": "code",
   "execution_count": 5,
   "metadata": {
    "collapsed": false
   },
   "outputs": [
    {
     "name": "stdout",
     "output_type": "stream",
     "text": [
      "443\n"
     ]
    }
   ],
   "source": [
    "print (g.value(phrase))"
   ]
  },
  {
   "cell_type": "markdown",
   "metadata": {},
   "source": [
    "Thus we can see that ο Λογος (the Word as a philosophical/theological concept) is transliterated to 'o Logos'. Its alphabetic numeral value (isopsephic value in the case of Greek example) is **443**.\n",
    "\n",
    "Abnum uses [romanize](https://github.com/markomanninen/romanize) transliteration module for converting a script to Roman letters. But is also works other way around. You can get a Greek script presentation of the word/the phrase as well:"
   ]
  },
  {
   "cell_type": "code",
   "execution_count": 6,
   "metadata": {
    "collapsed": false
   },
   "outputs": [
    {
     "name": "stdout",
     "output_type": "stream",
     "text": [
      "Ο ΛΟΓΟΣ\n"
     ]
    }
   ],
   "source": [
    "print (g.convert('O LOGOS'))"
   ]
  },
  {
   "cell_type": "markdown",
   "metadata": {},
   "source": [
    "Some of the scripts have capital letters and some doesn't. This is affected on the functioning in a way that for example in Greek and English small and capital letters have same value and their form is reserved on conversion."
   ]
  },
  {
   "cell_type": "code",
   "execution_count": 7,
   "metadata": {
    "collapsed": false
   },
   "outputs": [
    {
     "name": "stdout",
     "output_type": "stream",
     "text": [
      "ΓΑΙΟΣ ΙΟΨΛΙΟΣ ΚΑΙΣΑΡ , Γαιοσ Ιοψλιοσ Καισαρ\n"
     ]
    }
   ],
   "source": [
    "print (g.convert('GAIOS IOYLIOS KAISAR'), ',', \\\n",
    "       g.convert('GAIOS IOYLIOS KAISAR'.title()))"
   ]
  },
  {
   "cell_type": "markdown",
   "metadata": {},
   "source": [
    "Generally capitals doesn't have any effect on the value of the phrase. Thus \"ΓΑΙΟΣ ΙΟΨΛΙΟΣ ΚΑΙΣΑΡ\" and \"Γαιοσ Ιοψλιοσ Καισαρ\" should yield same value:"
   ]
  },
  {
   "cell_type": "code",
   "execution_count": 8,
   "metadata": {
    "collapsed": false
   },
   "outputs": [
    {
     "name": "stdout",
     "output_type": "stream",
     "text": [
      "1706 = 1706 = 1706\n"
     ]
    }
   ],
   "source": [
    "print (g.value('ΓΑΙΟΣ ΙΟΨΛΙΟΣ ΚΑΙΣΑΡ'), '=', g.value('Γαιοσ Ιοψλιοσ Καισαρ'), '=', g.value('gaios ioylios kaisar'))"
   ]
  },
  {
   "cell_type": "markdown",
   "metadata": {},
   "source": [
    "Yes, also Roman letters can be used for value calculation. But in this case they have Greek value substitution. For english \"gematria\" see example further below.\n",
    "\n",
    "\n",
    "## Hebrew\n",
    "\n",
    "Scripts like Hebrew doesn't have separate small or capital letters. Transliteration module in this case have special meaning on capital letters and their numerical value is not same with small letters. Capital \"M\" has a value 600 and small \"m\" 40 in the Hebrew gematria. Big letter are used as final letters as described by ancient [Mispar gadol](http://en.wikipedia.org/wiki/Gematria#Values_table) method of gematria. See the difference of spelling and value for the Hebrew word God:"
   ]
  },
  {
   "cell_type": "code",
   "execution_count": 9,
   "metadata": {
    "collapsed": false
   },
   "outputs": [
    {
     "name": "stdout",
     "output_type": "stream",
     "text": [
      "649 אלחים\n",
      "89 אלחימ\n"
     ]
    }
   ],
   "source": [
    "h = Abnum(hebrew)\n",
    "print (h.value('alhiM'), h.convert('alhiM'))\n",
    "print (h.value('alhim'), h.convert('alhim'))"
   ]
  },
  {
   "cell_type": "markdown",
   "metadata": {},
   "source": [
    "Also note that reading direction of the Hebrew word letters are from right to left!\n",
    "\n",
    "Let's try for a little bit longer phrase. Next one is from Hebrew version of the John's Revelation (chapter 1, verse 1). Preprocessing method is used to remove all diacritics which has no meaning on the value conversion. "
   ]
  },
  {
   "cell_type": "code",
   "execution_count": 10,
   "metadata": {
    "collapsed": false
   },
   "outputs": [
    {
     "name": "stdout",
     "output_type": "stream",
     "text": [
      "גלינא\tclina\t94\n",
      "דישוע\tdisfo\t390\n",
      "משיחא\tmsiha\t359\n",
      "דיהב\tdieb\t21\n",
      "לה\tle\t35\n",
      "אלהא\talea\t37\n",
      "למחויו\tlmhfif\t100\n",
      "לעבדוהי\tlobdfei\t127\n",
      "מא\tma\t41\n",
      "דיהיב\tdieib\t31\n",
      "למהוא\tlmefa\t82\n",
      "בעגל\tbocl\t105\n",
      "ושודע\tfsfdo\t386\n",
      "כד\tkd\t24\n",
      "שלח\tslh\t338\n",
      "ביד\tbid\t16\n",
      "מלאכה\tmlake\t96\n",
      "לעבדה\tlobde\t111\n",
      "יוחנן\tifhnN\t774\n",
      "\tTOTAL:\t3167\n"
     ]
    }
   ],
   "source": [
    "phrase = \"גלינא דישׁוע משׁיחא דיהב לה אלהא למחויו לעבדוהי מא דיהיב למהוא בעגל ושׁודע כד שׁלח ביד מלאכה לעבדה יוחנן\"\n",
    "phrase = h.preprocess(phrase)\n",
    "for word in phrase.split():\n",
    "    print (\"%s\\t%s\\t%s\" % (word, h.convert(word), h.value(word)))\n",
    "print ('\\tTOTAL:\\t%s' % h.value(phrase))"
   ]
  },
  {
   "cell_type": "markdown",
   "metadata": {},
   "source": [
    "## English\n",
    "\n",
    "Value conversion is made by default mapping, but in some cases (either because of using different letter value mapping from the various traditions or artificial one for tests) you may want to provide your own mapping. Take for example default english data mapping which is extensively used by [Marty Leeds](https://grahamhancock.com/leedsm1/):"
   ]
  },
  {
   "cell_type": "code",
   "execution_count": 11,
   "metadata": {
    "collapsed": false
   },
   "outputs": [
    {
     "name": "stdout",
     "output_type": "stream",
     "text": [
      "a , n = 1\n",
      "b , o = 2\n",
      "c , p = 3\n",
      "d , q = 4\n",
      "e , r = 5\n",
      "f , s = 6\n",
      "g , t = 7\n",
      "h , u = 6\n",
      "i , v = 5\n",
      "j , w = 4\n",
      "k , x = 3\n",
      "l , y = 2\n",
      "m , z = 1\n"
     ]
    }
   ],
   "source": [
    "e1 = Abnum(english)\n",
    "for i in range(13):\n",
    "    print (e1.data[:13][i][1], ',', e1.data[13:][i][1], '=', e1.data[:13][i][0])"
   ]
  },
  {
   "cell_type": "markdown",
   "metadata": {},
   "source": [
    "By using this default mapping next phrase \"the key\" would give a value accordingly:"
   ]
  },
  {
   "cell_type": "code",
   "execution_count": 12,
   "metadata": {
    "collapsed": false
   },
   "outputs": [
    {
     "name": "stdout",
     "output_type": "stream",
     "text": [
      "Using a default english mapping and getting a value for the phrase: 'the key' = 28\n"
     ]
    }
   ],
   "source": [
    "word = \"the key\"\n",
    "print (\"Using a default english mapping and getting a value for the phrase: '%s' = %s\" % (word, e1.value(word)))"
   ]
  },
  {
   "cell_type": "markdown",
   "metadata": {},
   "source": [
    "But in english script, there are several [different mappings](http://www.gematrix.org/gematria.php#english_gematria), which you could use instead. So let's apply custom mapping instead and see a value for the phrase \"the key\":"
   ]
  },
  {
   "cell_type": "code",
   "execution_count": 13,
   "metadata": {
    "collapsed": false
   },
   "outputs": [
    {
     "name": "stdout",
     "output_type": "stream",
     "text": [
      "Using a custom  english mapping and getting a value for the phrase: 'the key' = 74\n"
     ]
    }
   ],
   "source": [
    "mapping = ([1,  'a'], [2,  'b'], [3,  'c'], [4,  'd'], [5,  'e'], [6,  'f'], [7,  'g'], [8,  'h'], [9, 'i'], \n",
    "           [10, 'j'], [11, 'k'], [12, 'l'], [13, 'm'], [14, 'n'], [15, 'o'], [16, 'p'], [17, 'q'], [18, 'r'], \n",
    "           [19, 's'], [20, 't'], [21, 'u'], [22, 'v'], [23, 'w'], [24, 'x'], [25, 'y'], [26, 'z'])\n",
    "e2 = Abnum(english, mapping)\n",
    "print (\"Using a custom  english mapping and getting a value for the phrase: '%s' = %s\" % (word, e2.value(word)))"
   ]
  },
  {
   "cell_type": "markdown",
   "metadata": {},
   "source": [
    "# Character tables\n",
    "\n",
    "Abnum library offers some useful table visualization tools for \"gematrians\". First one is a char_table function. On the next example the famous Greek votive ἀδελφέ, βοήθει (Help, Brother!) is split to character specific representation of the values. Word are grouped as well with appropriate isopsephic value. At the end whole sentence value is shown."
   ]
  },
  {
   "cell_type": "code",
   "execution_count": 14,
   "metadata": {
    "collapsed": false
   },
   "outputs": [
    {
     "data": {
      "text/html": [
       "<table class=\"char-table\"><caption>αδελφε βοηθει</caption><thead><tr><th>α</th><th>δ</th><th>ε</th><th>λ</th><th>φ</th><th>ε</th><th>&nbsp;</th><th>&nbsp;</th><th>β</th><th>ο</th><th>η</th><th>θ</th><th>ε</th><th>ι</th></tr></thead><tfoot><tr><td colspan=\"6\">545 <sub>5</sub></td><td/><td/><td colspan=\"6\">104 <sub>5</sub></td></tr><tr><td style=\"border-top: solid 1px #ddd\" colspan=\"15\">649 <sub>19 / 1</sub></td></tr></tfoot><tbody><tr><td>a</td><td>d</td><td>e</td><td>l</td><td>f</td><td>e</td><td/><td class=\"empty-cell\"/><td>b</td><td>o</td><td>ê</td><td>h</td><td>e</td><td>i</td></tr><tr><td>1</td><td>4</td><td>5</td><td>30</td><td>500</td><td>5</td><td/><td class=\"empty-cell\"/><td>2</td><td>70</td><td>8</td><td>9</td><td>5</td><td>10</td></tr></tbody></table>"
      ],
      "text/plain": [
       "<abnum.remarkuple.table.table.<locals>.table at 0x107c70dd8>"
      ]
     },
     "execution_count": 14,
     "metadata": {},
     "output_type": "execute_result"
    }
   ],
   "source": [
    "g.char_table(g.preprocess('ἀδελφέ, βοήθει'))"
   ]
  },
  {
   "cell_type": "markdown",
   "metadata": {},
   "source": [
    "Same data can be viewed by pivotted table format:"
   ]
  },
  {
   "cell_type": "code",
   "execution_count": 15,
   "metadata": {
    "collapsed": false
   },
   "outputs": [],
   "source": [
    "a, b, c = g.char_table_data(g.preprocess('ἀδελφέ, βοήθει'))"
   ]
  },
  {
   "cell_type": "code",
   "execution_count": 16,
   "metadata": {
    "collapsed": false
   },
   "outputs": [
    {
     "data": {
      "text/html": [
       "<div>\n",
       "<table border=\"1\" class=\"dataframe\">\n",
       "  <thead>\n",
       "    <tr style=\"text-align: right;\">\n",
       "      <th></th>\n",
       "      <th>letter</th>\n",
       "      <th>transliteration</th>\n",
       "      <th>value</th>\n",
       "      <th>word</th>\n",
       "    </tr>\n",
       "  </thead>\n",
       "  <tbody>\n",
       "    <tr>\n",
       "      <th>0</th>\n",
       "      <td>α</td>\n",
       "      <td>a</td>\n",
       "      <td>1</td>\n",
       "      <td>αδελφε</td>\n",
       "    </tr>\n",
       "    <tr>\n",
       "      <th>1</th>\n",
       "      <td>δ</td>\n",
       "      <td>d</td>\n",
       "      <td>4</td>\n",
       "      <td>αδελφε</td>\n",
       "    </tr>\n",
       "    <tr>\n",
       "      <th>2</th>\n",
       "      <td>ε</td>\n",
       "      <td>e</td>\n",
       "      <td>5</td>\n",
       "      <td>αδελφε</td>\n",
       "    </tr>\n",
       "    <tr>\n",
       "      <th>3</th>\n",
       "      <td>λ</td>\n",
       "      <td>l</td>\n",
       "      <td>30</td>\n",
       "      <td>αδελφε</td>\n",
       "    </tr>\n",
       "    <tr>\n",
       "      <th>4</th>\n",
       "      <td>φ</td>\n",
       "      <td>f</td>\n",
       "      <td>500</td>\n",
       "      <td>αδελφε</td>\n",
       "    </tr>\n",
       "    <tr>\n",
       "      <th>5</th>\n",
       "      <td>ε</td>\n",
       "      <td>e</td>\n",
       "      <td>5</td>\n",
       "      <td>αδελφε</td>\n",
       "    </tr>\n",
       "    <tr>\n",
       "      <th>6</th>\n",
       "      <td>β</td>\n",
       "      <td>b</td>\n",
       "      <td>2</td>\n",
       "      <td>βοηθει</td>\n",
       "    </tr>\n",
       "    <tr>\n",
       "      <th>7</th>\n",
       "      <td>ο</td>\n",
       "      <td>o</td>\n",
       "      <td>70</td>\n",
       "      <td>βοηθει</td>\n",
       "    </tr>\n",
       "    <tr>\n",
       "      <th>8</th>\n",
       "      <td>η</td>\n",
       "      <td>ê</td>\n",
       "      <td>8</td>\n",
       "      <td>βοηθει</td>\n",
       "    </tr>\n",
       "    <tr>\n",
       "      <th>9</th>\n",
       "      <td>θ</td>\n",
       "      <td>h</td>\n",
       "      <td>9</td>\n",
       "      <td>βοηθει</td>\n",
       "    </tr>\n",
       "    <tr>\n",
       "      <th>10</th>\n",
       "      <td>ε</td>\n",
       "      <td>e</td>\n",
       "      <td>5</td>\n",
       "      <td>βοηθει</td>\n",
       "    </tr>\n",
       "    <tr>\n",
       "      <th>11</th>\n",
       "      <td>ι</td>\n",
       "      <td>i</td>\n",
       "      <td>10</td>\n",
       "      <td>βοηθει</td>\n",
       "    </tr>\n",
       "  </tbody>\n",
       "</table>\n",
       "</div>"
      ],
      "text/plain": [
       "   letter transliteration  value    word\n",
       "0       α               a      1  αδελφε\n",
       "1       δ               d      4  αδελφε\n",
       "2       ε               e      5  αδελφε\n",
       "3       λ               l     30  αδελφε\n",
       "4       φ               f    500  αδελφε\n",
       "5       ε               e      5  αδελφε\n",
       "6       β               b      2  βοηθει\n",
       "7       ο               o     70  βοηθει\n",
       "8       η               ê      8  βοηθει\n",
       "9       θ               h      9  βοηθει\n",
       "10      ε               e      5  βοηθει\n",
       "11      ι               i     10  βοηθει"
      ]
     },
     "execution_count": 16,
     "metadata": {},
     "output_type": "execute_result"
    }
   ],
   "source": [
    "a"
   ]
  },
  {
   "cell_type": "code",
   "execution_count": 17,
   "metadata": {
    "collapsed": false
   },
   "outputs": [
    {
     "data": {
      "text/html": [
       "<div>\n",
       "<table border=\"1\" class=\"dataframe\">\n",
       "  <thead>\n",
       "    <tr style=\"text-align: right;\">\n",
       "      <th></th>\n",
       "      <th>value</th>\n",
       "      <th>characters</th>\n",
       "      <th>digital_sum</th>\n",
       "      <th>digital_root</th>\n",
       "    </tr>\n",
       "    <tr>\n",
       "      <th>word</th>\n",
       "      <th></th>\n",
       "      <th></th>\n",
       "      <th></th>\n",
       "      <th></th>\n",
       "    </tr>\n",
       "  </thead>\n",
       "  <tbody>\n",
       "    <tr>\n",
       "      <th>αδελφε</th>\n",
       "      <td>545</td>\n",
       "      <td>6</td>\n",
       "      <td>14</td>\n",
       "      <td>5</td>\n",
       "    </tr>\n",
       "    <tr>\n",
       "      <th>βοηθει</th>\n",
       "      <td>104</td>\n",
       "      <td>6</td>\n",
       "      <td>5</td>\n",
       "      <td>5</td>\n",
       "    </tr>\n",
       "  </tbody>\n",
       "</table>\n",
       "</div>"
      ],
      "text/plain": [
       "        value  characters  digital_sum  digital_root\n",
       "word                                                \n",
       "αδελφε    545           6           14             5\n",
       "βοηθει    104           6            5             5"
      ]
     },
     "execution_count": 17,
     "metadata": {},
     "output_type": "execute_result"
    }
   ],
   "source": [
    "b"
   ]
  },
  {
   "cell_type": "code",
   "execution_count": 18,
   "metadata": {
    "collapsed": false
   },
   "outputs": [
    {
     "data": {
      "text/html": [
       "<div>\n",
       "<table border=\"1\" class=\"dataframe\">\n",
       "  <thead>\n",
       "    <tr style=\"text-align: right;\">\n",
       "      <th></th>\n",
       "      <th>characters</th>\n",
       "      <th>digital_root</th>\n",
       "      <th>digital_sum</th>\n",
       "      <th>phrase</th>\n",
       "      <th>value</th>\n",
       "    </tr>\n",
       "  </thead>\n",
       "  <tbody>\n",
       "    <tr>\n",
       "      <th>0</th>\n",
       "      <td>12</td>\n",
       "      <td>1</td>\n",
       "      <td>19</td>\n",
       "      <td>αδελφε βοηθει</td>\n",
       "      <td>649</td>\n",
       "    </tr>\n",
       "  </tbody>\n",
       "</table>\n",
       "</div>"
      ],
      "text/plain": [
       "   characters  digital_root  digital_sum         phrase  value\n",
       "0          12             1           19  αδελφε βοηθει    649"
      ]
     },
     "execution_count": 18,
     "metadata": {},
     "output_type": "execute_result"
    }
   ],
   "source": [
    "c"
   ]
  },
  {
   "cell_type": "markdown",
   "metadata": {},
   "source": [
    "As you may notice, the isopsephy value of \"Help, Brother\" (αδελφε βοηθει) is same as the gematria value of \"God\" (אלחים). Drawing connections between values retrieved from different scripts should be done with the highest caution. Even the basic usage of the evaluations, that \"the same value of different words makes words internally related\", can be questioned many ways. But that is a different topic and out of the scope of the document.\n",
    "\n",
    "# Advanced search functionality\n",
    "\n",
    "Last, but not the least, Abnum 3 library supports finding number patterns from phrases with the _find_ -method. This is useful for examining possible word and phrase patterns on bigger text corpuses. This is actually the main reason why library was made.\n",
    "\n",
    "As a real historical example I will use a poem created by first and second century isopsephist the architect Niko, (possibly the father of Claudius Galen), who was said to have mastered isopsephic art to its extremes.\n",
    "\n",
    "![Neikoonos](neikoonos.jpeg)\n",
    "\n",
    "Original plate (artifact available in the Archeological Museum of [Pergamon](https://en.wikipedia.org/wiki/Pergamon), Turkey) has second part of the poem broken, but the first part is fully reconstructed and translated:\n",
    "\n",
    "_\"Helios, you allow the light to assume its spiral shape with your <br/>\n",
    "swith horses, thus you have sent every day your rays to men having <br/>\n",
    "completed everything, since you established the route of Sun and <br/>\n",
    "(then) the never ending Earth, the outpuring Water, Air and Fire, <br/>\n",
    "everything proceeds ordinally.\"_\n",
    "\n",
    "Let's Abnum library calculate the value of the each line (in Greek) and then find number patterns that were in the mind of original author."
   ]
  },
  {
   "cell_type": "code",
   "execution_count": 19,
   "metadata": {
    "collapsed": false
   },
   "outputs": [
    {
     "name": "stdout",
     "output_type": "stream",
     "text": [
      "\n",
      "5178 ΑΙΛΙΟΥ ΝΕΙΚΩΝΟΣ ・ ẠΨΚϚ ・ ΑΡΧΙΤΕΚΤΟΝΟΣ\n",
      "2762 ΗΛΙΕ ΘΟΑΙΣ ΙΠΠΟΙΣΙΝ ΕΙΛΙΣΣΩΝ ΦΛΟΓΑ\n",
      "3271 ΩΣ ΠΑΝΤΕΛΗ ΘΝΗΤΟΙΣΙ ΤΗ ΤΟΤΕ Γ ΗΜΕΡΑ\n",
      "3102 ΑΚΤΕΙΝΑΣ ΕΦΗΚΑΣ ΘΕΜΕΝΟΣ ΗΛΙΟΥ ΔΡΟΜΟΥΣ\n",
      "3175 ΚΑΙ ΤΗΝ ΑΠΕΙΡΟΝ ΓΑΙΑΝ ΗΔΕ ΥΓΡΟΥ ΧΥΣΕΙΣ\n",
      "2690 ΑΕΡΑ ΤΕ ΚΑΙ ΠΥΡ ΕΝ ΤΑΞΕΙ ΦΟΡΟΥΜΕΝΑ\n",
      "15000 ṂĖ\n",
      "\n",
      "Total value: 35178\n"
     ]
    }
   ],
   "source": [
    "ss = [\"ΑΙΛΙΟΥ ΝΕΙΚΩΝΟΣ ・ ẠΨΚϚ ・ ΑΡΧΙΤΕΚΤΟΝΟΣ\",\n",
    "      \"ΗΛΙΕ ΘΟΑΙΣ ΙΠΠΟΙΣΙΝ ΕΙΛΙΣΣΩΝ ΦΛΟΓΑ\",\n",
    "      \"ΩΣ ΠΑΝΤΕΛΗ ΘΝΗΤΟΙΣΙ ΤΗ ΤΟΤΕ Γ ΗΜΕΡΑ\",\n",
    "      \"ΑΚΤΕΙΝΑΣ ΕΦΗΚΑΣ ΘΕΜΕΝΟΣ ΗΛΙΟΥ ΔΡΟΜΟΥΣ\",\n",
    "      \"ΚΑΙ ΤΗΝ ΑΠΕΙΡΟΝ ΓΑΙΑΝ ΗΔΕ ΥΓΡΟΥ ΧΥΣΕΙΣ\",\n",
    "      \"ΑΕΡΑ ΤΕ ΚΑΙ ΠΥΡ ΕΝ ΤΑΞΕΙ ΦΟΡΟΥΜΕΝΑ\",\n",
    "      \"ṂĖ\"]\n",
    "\n",
    "print ()\n",
    "for s in ss:\n",
    "    print (g.value(g.preprocess(s)), s)\n",
    "\n",
    "s = g.preprocess(' '.join(ss))\n",
    "\n",
    "print ()\n",
    "print (\"Total value: %s\" % g.value(s))"
   ]
  },
  {
   "cell_type": "markdown",
   "metadata": {},
   "source": [
    "Then find phrases with a value 1726 and 15000:"
   ]
  },
  {
   "cell_type": "code",
   "execution_count": 20,
   "metadata": {
    "collapsed": false
   },
   "outputs": [
    {
     "name": "stdout",
     "output_type": "stream",
     "text": [
      "\n",
      "1726 ΑΙΛΙΟΥ ΝΕΙΚΩΝΟΣ\n",
      "1726 ẠΨΚϚ\n",
      "1726 ΑΡΧΙΤΕΚΤΟΝΟΣ\n",
      "\n",
      "15000 ΗΛΙΕ ΘΟΑΙΣ ΙΠΠΟΙΣΙΝ ΕΙΛΙΣΣΩΝ ΦΛΟΓΑ ΩΣ ΠΑΝΤΕΛΗ ΘΝΗΤΟΙΣΙ ΤΗ ΤΟΤΕ Γ ΗΜΕΡΑ ΑΚΤΕΙΝΑΣ ΕΦΗΚΑΣ ΘΕΜΕΝΟΣ ΗΛΙΟΥ ΔΡΟΜΟΥΣ ΚΑΙ ΤΗΝ ΑΠΕΙΡΟΝ ΓΑΙΑΝ ΗΔΕ ΥΓΡΟΥ ΧΥΣΕΙΣ ΑΕΡΑ ΤΕ ΚΑΙ ΠΥΡ ΕΝ ΤΑΞΕΙ ΦΟΡΟΥΜΕΝΑ\n",
      "15000 ṂĖ\n"
     ]
    }
   ],
   "source": [
    "v1 = 1726\n",
    "v2 = 15000\n",
    "print ()\n",
    "for x in g.find(s, v1, True):\n",
    "    print (v1, x)\n",
    "print ()\n",
    "for x in g.find(s, v2, True):\n",
    "    print (v2, x)"
   ]
  },
  {
   "cell_type": "markdown",
   "metadata": {},
   "source": [
    "Finally you might want to examine individual word values. Char_table_data -function provides count of the characters plus digital sum and digital root of the word value as well."
   ]
  },
  {
   "cell_type": "code",
   "execution_count": 21,
   "metadata": {
    "collapsed": false
   },
   "outputs": [
    {
     "data": {
      "text/html": [
       "<div>\n",
       "<table border=\"1\" class=\"dataframe\">\n",
       "  <thead>\n",
       "    <tr style=\"text-align: right;\">\n",
       "      <th></th>\n",
       "      <th>value</th>\n",
       "      <th>characters</th>\n",
       "      <th>digital_sum</th>\n",
       "      <th>digital_root</th>\n",
       "    </tr>\n",
       "    <tr>\n",
       "      <th>word</th>\n",
       "      <th></th>\n",
       "      <th></th>\n",
       "      <th></th>\n",
       "      <th></th>\n",
       "    </tr>\n",
       "  </thead>\n",
       "  <tbody>\n",
       "    <tr>\n",
       "      <th>ΑΕΡΑ</th>\n",
       "      <td>107</td>\n",
       "      <td>4</td>\n",
       "      <td>8</td>\n",
       "      <td>8</td>\n",
       "    </tr>\n",
       "    <tr>\n",
       "      <th>ΑΙΛΙΟΥ</th>\n",
       "      <td>521</td>\n",
       "      <td>6</td>\n",
       "      <td>8</td>\n",
       "      <td>8</td>\n",
       "    </tr>\n",
       "    <tr>\n",
       "      <th>ΑΚΤΕΙΝΑΣ</th>\n",
       "      <td>587</td>\n",
       "      <td>8</td>\n",
       "      <td>20</td>\n",
       "      <td>2</td>\n",
       "    </tr>\n",
       "    <tr>\n",
       "      <th>ΑΠΕΙΡΟΝ</th>\n",
       "      <td>316</td>\n",
       "      <td>7</td>\n",
       "      <td>10</td>\n",
       "      <td>1</td>\n",
       "    </tr>\n",
       "    <tr>\n",
       "      <th>ΑΡΧΙΤΕΚΤΟΝΟΣ</th>\n",
       "      <td>1726</td>\n",
       "      <td>12</td>\n",
       "      <td>16</td>\n",
       "      <td>7</td>\n",
       "    </tr>\n",
       "    <tr>\n",
       "      <th>Γ</th>\n",
       "      <td>3</td>\n",
       "      <td>1</td>\n",
       "      <td>3</td>\n",
       "      <td>3</td>\n",
       "    </tr>\n",
       "    <tr>\n",
       "      <th>ΓΑΙΑΝ</th>\n",
       "      <td>65</td>\n",
       "      <td>5</td>\n",
       "      <td>11</td>\n",
       "      <td>2</td>\n",
       "    </tr>\n",
       "    <tr>\n",
       "      <th>ΔΡΟΜΟΥΣ</th>\n",
       "      <td>884</td>\n",
       "      <td>7</td>\n",
       "      <td>20</td>\n",
       "      <td>2</td>\n",
       "    </tr>\n",
       "    <tr>\n",
       "      <th>ΕΙΛΙΣΣΩΝ</th>\n",
       "      <td>1305</td>\n",
       "      <td>8</td>\n",
       "      <td>9</td>\n",
       "      <td>9</td>\n",
       "    </tr>\n",
       "    <tr>\n",
       "      <th>ΕΝ</th>\n",
       "      <td>55</td>\n",
       "      <td>2</td>\n",
       "      <td>10</td>\n",
       "      <td>1</td>\n",
       "    </tr>\n",
       "    <tr>\n",
       "      <th>ΕΦΗΚΑΣ</th>\n",
       "      <td>734</td>\n",
       "      <td>6</td>\n",
       "      <td>14</td>\n",
       "      <td>5</td>\n",
       "    </tr>\n",
       "    <tr>\n",
       "      <th>ΗΔΕ</th>\n",
       "      <td>17</td>\n",
       "      <td>3</td>\n",
       "      <td>8</td>\n",
       "      <td>8</td>\n",
       "    </tr>\n",
       "    <tr>\n",
       "      <th>ΗΛΙΕ</th>\n",
       "      <td>53</td>\n",
       "      <td>4</td>\n",
       "      <td>8</td>\n",
       "      <td>8</td>\n",
       "    </tr>\n",
       "    <tr>\n",
       "      <th>ΗΛΙΟΥ</th>\n",
       "      <td>518</td>\n",
       "      <td>5</td>\n",
       "      <td>14</td>\n",
       "      <td>5</td>\n",
       "    </tr>\n",
       "    <tr>\n",
       "      <th>ΗΜΕΡΑ</th>\n",
       "      <td>154</td>\n",
       "      <td>5</td>\n",
       "      <td>10</td>\n",
       "      <td>1</td>\n",
       "    </tr>\n",
       "    <tr>\n",
       "      <th>ΘΕΜΕΝΟΣ</th>\n",
       "      <td>379</td>\n",
       "      <td>7</td>\n",
       "      <td>19</td>\n",
       "      <td>1</td>\n",
       "    </tr>\n",
       "    <tr>\n",
       "      <th>ΘΝΗΤΟΙΣΙ</th>\n",
       "      <td>657</td>\n",
       "      <td>8</td>\n",
       "      <td>18</td>\n",
       "      <td>9</td>\n",
       "    </tr>\n",
       "    <tr>\n",
       "      <th>ΘΟΑΙΣ</th>\n",
       "      <td>290</td>\n",
       "      <td>5</td>\n",
       "      <td>11</td>\n",
       "      <td>2</td>\n",
       "    </tr>\n",
       "    <tr>\n",
       "      <th>ΙΠΠΟΙΣΙΝ</th>\n",
       "      <td>510</td>\n",
       "      <td>8</td>\n",
       "      <td>6</td>\n",
       "      <td>6</td>\n",
       "    </tr>\n",
       "    <tr>\n",
       "      <th>ΚΑΙ</th>\n",
       "      <td>62</td>\n",
       "      <td>6</td>\n",
       "      <td>8</td>\n",
       "      <td>8</td>\n",
       "    </tr>\n",
       "    <tr>\n",
       "      <th>ΝΕΙΚΩΝΟΣ</th>\n",
       "      <td>1205</td>\n",
       "      <td>8</td>\n",
       "      <td>8</td>\n",
       "      <td>8</td>\n",
       "    </tr>\n",
       "    <tr>\n",
       "      <th>ΠΑΝΤΕΛΗ</th>\n",
       "      <td>474</td>\n",
       "      <td>7</td>\n",
       "      <td>15</td>\n",
       "      <td>6</td>\n",
       "    </tr>\n",
       "    <tr>\n",
       "      <th>ΠΥΡ</th>\n",
       "      <td>580</td>\n",
       "      <td>3</td>\n",
       "      <td>13</td>\n",
       "      <td>4</td>\n",
       "    </tr>\n",
       "    <tr>\n",
       "      <th>ΤΑΞΕΙ</th>\n",
       "      <td>376</td>\n",
       "      <td>5</td>\n",
       "      <td>16</td>\n",
       "      <td>7</td>\n",
       "    </tr>\n",
       "    <tr>\n",
       "      <th>ΤΕ</th>\n",
       "      <td>305</td>\n",
       "      <td>2</td>\n",
       "      <td>8</td>\n",
       "      <td>8</td>\n",
       "    </tr>\n",
       "    <tr>\n",
       "      <th>ΤΗ</th>\n",
       "      <td>308</td>\n",
       "      <td>2</td>\n",
       "      <td>11</td>\n",
       "      <td>2</td>\n",
       "    </tr>\n",
       "    <tr>\n",
       "      <th>ΤΗΝ</th>\n",
       "      <td>358</td>\n",
       "      <td>3</td>\n",
       "      <td>16</td>\n",
       "      <td>7</td>\n",
       "    </tr>\n",
       "    <tr>\n",
       "      <th>ΤΟΤΕ</th>\n",
       "      <td>675</td>\n",
       "      <td>4</td>\n",
       "      <td>18</td>\n",
       "      <td>9</td>\n",
       "    </tr>\n",
       "    <tr>\n",
       "      <th>ΥΓΡΟΥ</th>\n",
       "      <td>973</td>\n",
       "      <td>5</td>\n",
       "      <td>19</td>\n",
       "      <td>1</td>\n",
       "    </tr>\n",
       "    <tr>\n",
       "      <th>ΦΛΟΓΑ</th>\n",
       "      <td>604</td>\n",
       "      <td>5</td>\n",
       "      <td>10</td>\n",
       "      <td>1</td>\n",
       "    </tr>\n",
       "    <tr>\n",
       "      <th>ΦΟΡΟΥΜΕΝΑ</th>\n",
       "      <td>1236</td>\n",
       "      <td>9</td>\n",
       "      <td>12</td>\n",
       "      <td>3</td>\n",
       "    </tr>\n",
       "    <tr>\n",
       "      <th>ΧΥΣΕΙΣ</th>\n",
       "      <td>1415</td>\n",
       "      <td>6</td>\n",
       "      <td>11</td>\n",
       "      <td>2</td>\n",
       "    </tr>\n",
       "    <tr>\n",
       "      <th>ΩΣ</th>\n",
       "      <td>1000</td>\n",
       "      <td>2</td>\n",
       "      <td>1</td>\n",
       "      <td>1</td>\n",
       "    </tr>\n",
       "    <tr>\n",
       "      <th>ṂĖ</th>\n",
       "      <td>15000</td>\n",
       "      <td>2</td>\n",
       "      <td>6</td>\n",
       "      <td>6</td>\n",
       "    </tr>\n",
       "    <tr>\n",
       "      <th>ẠΨΚϚ</th>\n",
       "      <td>1726</td>\n",
       "      <td>4</td>\n",
       "      <td>16</td>\n",
       "      <td>7</td>\n",
       "    </tr>\n",
       "  </tbody>\n",
       "</table>\n",
       "</div>"
      ],
      "text/plain": [
       "              value  characters  digital_sum  digital_root\n",
       "word                                                      \n",
       "ΑΕΡΑ            107           4            8             8\n",
       "ΑΙΛΙΟΥ          521           6            8             8\n",
       "ΑΚΤΕΙΝΑΣ        587           8           20             2\n",
       "ΑΠΕΙΡΟΝ         316           7           10             1\n",
       "ΑΡΧΙΤΕΚΤΟΝΟΣ   1726          12           16             7\n",
       "Γ                 3           1            3             3\n",
       "ΓΑΙΑΝ            65           5           11             2\n",
       "ΔΡΟΜΟΥΣ         884           7           20             2\n",
       "ΕΙΛΙΣΣΩΝ       1305           8            9             9\n",
       "ΕΝ               55           2           10             1\n",
       "ΕΦΗΚΑΣ          734           6           14             5\n",
       "ΗΔΕ              17           3            8             8\n",
       "ΗΛΙΕ             53           4            8             8\n",
       "ΗΛΙΟΥ           518           5           14             5\n",
       "ΗΜΕΡΑ           154           5           10             1\n",
       "ΘΕΜΕΝΟΣ         379           7           19             1\n",
       "ΘΝΗΤΟΙΣΙ        657           8           18             9\n",
       "ΘΟΑΙΣ           290           5           11             2\n",
       "ΙΠΠΟΙΣΙΝ        510           8            6             6\n",
       "ΚΑΙ              62           6            8             8\n",
       "ΝΕΙΚΩΝΟΣ       1205           8            8             8\n",
       "ΠΑΝΤΕΛΗ         474           7           15             6\n",
       "ΠΥΡ             580           3           13             4\n",
       "ΤΑΞΕΙ           376           5           16             7\n",
       "ΤΕ              305           2            8             8\n",
       "ΤΗ              308           2           11             2\n",
       "ΤΗΝ             358           3           16             7\n",
       "ΤΟΤΕ            675           4           18             9\n",
       "ΥΓΡΟΥ           973           5           19             1\n",
       "ΦΛΟΓΑ           604           5           10             1\n",
       "ΦΟΡΟΥΜΕΝΑ      1236           9           12             3\n",
       "ΧΥΣΕΙΣ         1415           6           11             2\n",
       "ΩΣ             1000           2            1             1\n",
       "ṂĖ            15000           2            6             6\n",
       "ẠΨΚϚ           1726           4           16             7"
      ]
     },
     "execution_count": 21,
     "metadata": {},
     "output_type": "execute_result"
    }
   ],
   "source": [
    "a, b, c = g.char_table_data(s)\n",
    "b"
   ]
  },
  {
   "cell_type": "markdown",
   "metadata": {},
   "source": [
    "At least count of the characters have played big role on the text composition process, maybe even bigger than isopsephic value calculation. If text corpus was supposed to be copied, then counting characters served at least two purposes: a) to estimate cost of the copying and b) providing information of the accuracy of the copying process. But what comes to isopsephy/gematria, accuracy of the copying process could be even further rechecked if value patterns of the text was cautiously selected and applied to the text corpus."
   ]
  },
  {
   "cell_type": "code",
   "execution_count": 22,
   "metadata": {
    "collapsed": false
   },
   "outputs": [
    {
     "data": {
      "text/html": [
       "<style>/* notebook unstylings */\n",
       "\n",
       ".rendered_html table,\n",
       ".rendered_html tr,\n",
       ".rendered_html th,\n",
       ".rendered_html td {\n",
       "    border: 0\n",
       "}\n",
       "\n",
       "/* general table styles */\n",
       "\n",
       "table {\n",
       "    color: black;\n",
       "    border: 0;\n",
       "    margin: 1.5em auto;\n",
       "    border-bottom: 1px solid #999;\n",
       "    border-collapse: collapse;\n",
       "    -webkit-border-top-left-radius: 8px;\n",
       "    -webkit-border-top-right-radius: 8px;\n",
       "    -moz-border-radius: 8px 8px 0 0;\n",
       "    border-radius: 8px 8px 0 0;\n",
       "    background: #444;\n",
       "}\n",
       "table caption {\n",
       "    margin-bottom: .75em;\n",
       "    text-align: center;\n",
       "    font-style: italic;\n",
       "}\n",
       "table td {\n",
       "    -moz-transition: background 0.2s linear;\n",
       "    -o-transition: background 0.2s linear;\n",
       "    transition: background 0.2s linear;\n",
       "    white-space: nowrap;\n",
       "    border-top: 1px solid #eee;\n",
       "    border-left: 1px solid #eee;\n",
       "    padding: 0.4em 0.8em;\n",
       "    background: #fff;\n",
       "}\n",
       "table tfoot,\n",
       "table tbody {\n",
       "    outline-offset: -1px;\n",
       "    outline: 1px solid #ccc;\n",
       "}\n",
       "\n",
       "table thead {}\n",
       "table thead th {\n",
       "    border: none;\n",
       "    border-bottom: 2px solid #eee;\n",
       "    background: transparent;\n",
       "    color: #fff;\n",
       "    text-align: center;\n",
       "    cursor: pointer;\n",
       "    padding: 0.4em 0.8em;\n",
       "}\n",
       "\n",
       "table tbody {}\n",
       "table tbody tr:hover td {\n",
       "    background: #ffe;\n",
       "    color: black;\n",
       "}\n",
       "table tbody tr td:hover {\n",
       "    background: #f5f6d2;\n",
       "}\n",
       "table tbody tr td:last-child {\n",
       "    text-align: center\n",
       "}\n",
       "\n",
       "table tbody tr th {\n",
       "    color: white;\n",
       "    padding: 0.4em 0.8em;\n",
       "    text-transform: uppercase\n",
       "}\n",
       "\n",
       "\n",
       "table tfoot {}\n",
       "table tfoot td {\n",
       "    padding: 0.4em 0.8em;\n",
       "    text-align: center;\n",
       "    font-style: italic;\n",
       "}\n",
       "\n",
       "table .right {\n",
       "    text-align: right\n",
       "}\n",
       "\n",
       "table tr.ok td {background-color: white;}\n",
       "table tr.fail td {background-color: red; color: white}\n",
       "table tr.error td {background-color: lightpink}\n",
       "table tbody.failures {}\n",
       "table tbody.errors {}\n",
       "\n",
       "table tbody tr th:first-child {background-color: #777; padding: 0 10px}\n",
       "\n",
       "/* custom table styles */\n",
       "\n",
       "table.char-table thead tr th, \n",
       "table.char-table tbody tr td, \n",
       "table.char-table tfoot tr td {text-align: center;}\n",
       "table.char-table tbody tr td.empty-cell {border-left: 1px solid #aaa}\n",
       "\n",
       "p img[alt=\"Neikoonos\"] {max-width: 640px; margin: auto 0;}\n",
       "</style>"
      ],
      "text/plain": [
       "<IPython.core.display.HTML object>"
      ]
     },
     "execution_count": 22,
     "metadata": {},
     "output_type": "execute_result"
    }
   ],
   "source": [
    "from IPython.core.display import HTML\n",
    "with open('abnum.css') as f:\n",
    "    css = f.read()\n",
    "HTML('<style>%s</style>' % css)"
   ]
  },
  {
   "cell_type": "markdown",
   "metadata": {},
   "source": [
    "## The [MIT](http://choosealicense.com/licenses/mit/) License\n",
    "\n",
    "Copyright &copy; 2016 Marko Manninen"
   ]
  }
 ],
 "metadata": {
  "kernelspec": {
   "display_name": "Python 3",
   "language": "python",
   "name": "python3"
  },
  "language_info": {
   "codemirror_mode": {
    "name": "ipython",
    "version": 3
   },
   "file_extension": ".py",
   "mimetype": "text/x-python",
   "name": "python",
   "nbconvert_exporter": "python",
   "pygments_lexer": "ipython3",
   "version": "3.5.1"
  }
 },
 "nbformat": 4,
 "nbformat_minor": 0
}
